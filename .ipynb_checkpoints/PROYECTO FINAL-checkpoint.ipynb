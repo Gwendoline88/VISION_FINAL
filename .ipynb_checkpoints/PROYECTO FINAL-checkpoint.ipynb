{
 "cells": [
  {
   "cell_type": "code",
   "execution_count": 2,
   "id": "c3ae548e-de4c-4f1b-889b-b997fc0b1f10",
   "metadata": {},
   "outputs": [
    {
     "name": "stdout",
     "output_type": "stream",
     "text": [
      "Librerías importadas correctamente\n"
     ]
    }
   ],
   "source": [
    "import cv2\n",
    "import numpy as np\n",
    "\n",
    "print(\"Librerías importadas correctamente\")"
   ]
  },
  {
   "cell_type": "code",
   "execution_count": 4,
   "id": "66a4dc2d-69a1-474e-a6e6-2b006de80b31",
   "metadata": {},
   "outputs": [],
   "source": [
    "import cv2\n",
    "\n",
    "# Iniciar la cámara\n",
    "cap = cv2.VideoCapture(0)  # 0 significa la cámara principal de tu laptop\n",
    "\n",
    "while True:\n",
    "    ret, frame = cap.read()  # Leer cada frame\n",
    "    if not ret:\n",
    "        break\n",
    "\n",
    "    cv2.imshow('Camera', frame)  # Mostrar el video en una ventana\n",
    "\n",
    "    # Presiona 'q' para salir\n",
    "    if cv2.waitKey(1) & 0xFF == ord('q'):\n",
    "        break\n",
    "\n",
    "cap.release()\n",
    "cv2.destroyAllWindows()"
   ]
  },
  {
   "cell_type": "code",
   "execution_count": 6,
   "id": "554dc207-96e9-4759-abad-d72891e37b37",
   "metadata": {},
   "outputs": [],
   "source": [
    "import cv2\n",
    "import numpy as np\n",
    "\n",
    "# Función para detectar colores\n",
    "def detect_color(frame):\n",
    "    hsv_frame = cv2.cvtColor(frame, cv2.COLOR_BGR2HSV)  # Convertir BGR a HSV\n",
    "\n",
    "    # Rango para el color rojo\n",
    "    red_lower = np.array([0, 120, 70])\n",
    "    red_upper = np.array([10, 255, 255])\n",
    "    red_mask = cv2.inRange(hsv_frame, red_lower, red_upper)\n",
    "\n",
    "    # Rango para el color verde\n",
    "    green_lower = np.array([36, 100, 100])\n",
    "    green_upper = np.array([86, 255, 255])\n",
    "    green_mask = cv2.inRange(hsv_frame, green_lower, green_upper)\n",
    "\n",
    "    # Rango para el color azul\n",
    "    blue_lower = np.array([94, 80, 2])\n",
    "    blue_upper = np.array([126, 255, 255])\n",
    "    blue_mask = cv2.inRange(hsv_frame, blue_lower, blue_upper)\n",
    "\n",
    "    # Verificar cuál color está presente\n",
    "    if np.any(red_mask):\n",
    "        return \"Rojo\"\n",
    "    elif np.any(green_mask):\n",
    "        return \"Verde\"\n",
    "    elif np.any(blue_mask):\n",
    "        return \"Azul\"\n",
    "    else:\n",
    "        return \"Ninguno\"\n",
    "\n",
    "# Iniciar cámara\n",
    "cap = cv2.VideoCapture(0)\n",
    "\n",
    "while True:\n",
    "    ret, frame = cap.read()\n",
    "    if not ret:\n",
    "        break\n",
    "\n",
    "    color_detected = detect_color(frame)  # Detectar el color en el frame actual\n",
    "\n",
    "    # Mostrar el color detectado en el video\n",
    "    cv2.putText(frame, f\"Color: {color_detected}\", (10, 50), cv2.FONT_HERSHEY_SIMPLEX, 1, (255, 255, 255), 2)\n",
    "    cv2.imshow('Camera', frame)\n",
    "\n",
    "    if cv2.waitKey(1) & 0xFF == ord('q'):\n",
    "        break\n",
    "\n",
    "cap.release()\n",
    "cv2.destroyAllWindows()"
   ]
  },
  {
   "cell_type": "code",
   "execution_count": null,
   "id": "7e97e4ec-6884-4f88-ae26-cedafe2451f8",
   "metadata": {},
   "outputs": [],
   "source": []
  }
 ],
 "metadata": {
  "kernelspec": {
   "display_name": "Python [conda env:base] *",
   "language": "python",
   "name": "conda-base-py"
  },
  "language_info": {
   "codemirror_mode": {
    "name": "ipython",
    "version": 3
   },
   "file_extension": ".py",
   "mimetype": "text/x-python",
   "name": "python",
   "nbconvert_exporter": "python",
   "pygments_lexer": "ipython3",
   "version": "3.12.7"
  }
 },
 "nbformat": 4,
 "nbformat_minor": 5
}
