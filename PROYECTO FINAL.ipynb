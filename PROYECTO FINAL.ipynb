{
 "cells": [
  {
   "cell_type": "markdown",
   "id": "b45ba86e-138c-449b-9cc1-ccd3ccfbf12c",
   "metadata": {},
   "source": [
    "# PROYECTO FINAL DE VISIÓN POR COMPUTADORA\n",
    "## CAZA DE TESOROS!!"
   ]
  },
  {
   "cell_type": "markdown",
   "id": "7dfe8603-31d8-4caa-91bc-30592e43a45d",
   "metadata": {},
   "source": [
    "- Alumna Dolly Gwendoline López Rosas\n",
    "- NUA 379969\n",
    "- Correo dg.lopezrosas@ugto.mx\n",
    "- Docente Doctora María Susana Ávila"
   ]
  },
  {
   "cell_type": "code",
   "execution_count": null,
   "id": "50dc56cc-3fe2-456c-8761-ebf9fdc7b956",
   "metadata": {},
   "outputs": [],
   "source": []
  }
 ],
 "metadata": {
  "kernelspec": {
   "display_name": "Python [conda env:base] *",
   "language": "python",
   "name": "conda-base-py"
  },
  "language_info": {
   "codemirror_mode": {
    "name": "ipython",
    "version": 3
   },
   "file_extension": ".py",
   "mimetype": "text/x-python",
   "name": "python",
   "nbconvert_exporter": "python",
   "pygments_lexer": "ipython3",
   "version": "3.12.7"
  }
 },
 "nbformat": 4,
 "nbformat_minor": 5
}
